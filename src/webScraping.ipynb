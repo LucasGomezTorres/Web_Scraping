{
 "cells": [
  {
   "cell_type": "markdown",
   "metadata": {},
   "source": [
    "Se añade la carpeta correctamente source.\n"
   ]
  },
  {
   "cell_type": "code",
   "execution_count": 93,
   "metadata": {},
   "outputs": [],
   "source": [
    "# Se importan las librerías que se van a usar\n",
    "import requests\n",
    "import time\n",
    "import re\n",
    "import pandas as pd\n",
    "import os\n",
    "import urllib.parse\n",
    "#!pip install webdriver-manager\n",
    "import chromedriver_binary \n",
    "from bs4 import BeautifulSoup\n",
    "from selenium.webdriver import Firefox\n",
    "from webdriver_manager.firefox import GeckoDriverManager\n",
    "from selenium.common.exceptions import NoSuchElementException\n",
    "from selenium.common.exceptions import ElementClickInterceptedException\n",
    "from selenium.webdriver.common.by import By\n",
    "from tqdm import tqdm\n",
    "from urllib.parse import urlparse"
   ]
  },
  {
   "cell_type": "code",
   "execution_count": 115,
   "metadata": {},
   "outputs": [],
   "source": [
    "# url de partida para obtener la información de las películas\n",
    "url = \"https://www.imdb.com/chart/top\"\n",
    "\n",
    "# Se modifica el user-agent para evitar no ser bloqueados\n",
    "headers = {\n",
    "\"Accept\": \"text/html,application/xhtml+xml,application/xml;q=0.9,image/webp,\\\n",
    "*/*;q=0.8\",\n",
    "\"Accept-Encoding\": \"gzip, deflate, sdch, br\",\n",
    "\"Accept-Language\": \"en-US,en;q=0.8\",\n",
    "\"Cache-Control\": \"no-cache\",\n",
    "\"dnt\": \"1\",\n",
    "\"Pragma\": \"no-cache\",\n",
    "\"Upgrade-Insecure-Requests\": \"1\",\n",
    "\"User-Agent\": \"Mozilla/5.0 (Macintosh; Intel Mac OS X 10_15_7) AppleWebKit/537.36\\\n",
    "    (KHTML, like Gecko) Chrome/106.0.0.0 Safari/537.36\"\n",
    "}\n",
    "\n",
    "# url login\n",
    "url_login = \"https://www.imdb.com/ap/signin?openid.pape.max_auth_age=0&openid.return_to=https%3A%2F%2Fwww.imdb.com%2Fregistration%2Fap-signin-handler%2Fimdb_us&openid.identity=http%3A%2F%2Fspecs.openid.net%2Fauth%2F2.0%2Fidentifier_select&openid.assoc_handle=imdb_us&openid.mode=checkid_setup&siteState=eyJvcGVuaWQuYXNzb2NfaGFuZGxlIjoiaW1kYl91cyIsInJlZGlyZWN0VG8iOiJodHRwczovL3d3dy5pbWRiLmNvbS9jaGFydC90b3A_cmVmXz1sb2dpbiJ9&openid.claimed_id=http%3A%2F%2Fspecs.openid.net%2Fauth%2F2.0%2Fidentifier_select&openid.ns=http%3A%2F%2Fspecs.openid.net%2Fauth%2F2.0&tag=imdbtag_reg-20\"\n",
    "\n",
    "# Parámetros que son necesarios para hacer el login\n",
    "data_login =  {\n",
    "    'email':'luckigt@icloud.com',\n",
    "    'password':'Password'\n",
    "}\n",
    "# Requests y el parser del html\n",
    "response = requests.get(url)\n",
    "soup = BeautifulSoup(response.text,\"html.parser\")\n"
   ]
  },
  {
   "cell_type": "code",
   "execution_count": 102,
   "metadata": {},
   "outputs": [],
   "source": [
    "\n",
    "# Películas\n",
    "soup_names = soup.select('td.titleColumn a')\n",
    "\n",
    "# Sacar nombre de las películas\n",
    "movies_names = [names.get_text() for names in soup_names]\n"
   ]
  },
  {
   "cell_type": "code",
   "execution_count": 65,
   "metadata": {},
   "outputs": [],
   "source": [
    "# Año de las peliculas\n",
    "#soup_movies = soup.select('td.titleColumn span[class=secondaryInfo]')\n",
    "soup_years = soup.find_all('span', {'class' : 'secondaryInfo'})\n",
    "\n",
    "years_of_film = [years.get_text() for years in soup_years]\n",
    "\n",
    "# Eliminamos los parentesis del año del estreno de las películas\n",
    "import re\n",
    "years_of_film_clean = [re.sub(\"[()]\",\"\",years_cleaned) for years_cleaned in years_of_film]"
   ]
  },
  {
   "cell_type": "code",
   "execution_count": 68,
   "metadata": {},
   "outputs": [],
   "source": [
    "# Ratings de las peliculas\n",
    "soup_ratings = soup.find_all(\"td\",class_='imdbRating')\n",
    "\n",
    "ratings_of_film = [ratings.get_text() for ratings in soup_ratings]\n",
    "\n",
    "#Eliminamos espacios a los lados\n",
    "ratings_of_film_clean = [ratings_cleaned.strip() for ratings_cleaned in ratings_of_film]\n"
   ]
  },
  {
   "cell_type": "code",
   "execution_count": 122,
   "metadata": {},
   "outputs": [
    {
     "name": "stderr",
     "output_type": "stream",
     "text": [
      "[WDM] - Downloading: 19.0kB [00:00, 4.29MB/s]                   \n",
      "/var/folders/_h/lw6vm6js40v053j5mjqh7fcw0000gn/T/ipykernel_83764/2599963192.py:6: DeprecationWarning: executable_path has been deprecated, please pass in a Service object\n",
      "  driver = Firefox(executable_path=GeckoDriverManager().install())\n"
     ]
    }
   ],
   "source": [
    "# DRIVER CON FIREFOX\n",
    "\n",
    "# Instalas este modulo con pip install webdriver-manager\n",
    "\n",
    "# Abres el navegador Firefox\n",
    "driver = Firefox(executable_path=GeckoDriverManager().install())\n",
    "driver.get(url_login)\n",
    "\n",
    "# Rellena email, password y hace click, y nos logamos\n",
    "driver.find_element(By.ID,\"ap_email\").send_keys(data_login['email'])\n",
    "driver.find_element(By.ID,\"ap_password\").send_keys(data_login['password'])\n",
    "driver.find_element(By.ID,\"signInSubmit\").click()\n",
    "\n",
    "\n",
    "\n"
   ]
  },
  {
   "cell_type": "code",
   "execution_count": null,
   "metadata": {},
   "outputs": [],
   "source": [
    "# Creas la session con request\n",
    "#session = requests.Session()\n",
    "\n",
    "\n",
    "#login = session.post(url_login,data = data_login,headers=headers)\n",
    "\n",
    "#for i in login.history:\n",
    "#    if i.status_code == 402:\n",
    "#        print(\"Error!\")"
   ]
  }
 ],
 "metadata": {
  "kernelspec": {
   "display_name": "Python 3.9.7 ('uoc20212pec4')",
   "language": "python",
   "name": "python3"
  },
  "language_info": {
   "codemirror_mode": {
    "name": "ipython",
    "version": 3
   },
   "file_extension": ".py",
   "mimetype": "text/x-python",
   "name": "python",
   "nbconvert_exporter": "python",
   "pygments_lexer": "ipython3",
   "version": "3.9.7"
  },
  "orig_nbformat": 4,
  "vscode": {
   "interpreter": {
    "hash": "b4d95563b6a2f1465f7b611108e4478c3dbbcb1481cd44681845be454129dad8"
   }
  }
 },
 "nbformat": 4,
 "nbformat_minor": 2
}
