{
 "cells": [
  {
   "cell_type": "markdown",
   "metadata": {},
   "source": [
    "Se añade la carpeta correctamente source.\n"
   ]
  },
  {
   "cell_type": "code",
   "execution_count": 1,
   "metadata": {},
   "outputs": [],
   "source": [
    "# Se importan las librerías que se van a usar\n",
    "import requests\n",
    "import time\n",
    "import re\n",
    "import pandas as pd\n",
    "import os\n",
    "import urllib.parse\n",
    "#!pip install webdriver-manager\n",
    "import chromedriver_binary \n",
    "from bs4 import BeautifulSoup\n",
    "from selenium.webdriver import Firefox\n",
    "from webdriver_manager.firefox import GeckoDriverManager\n",
    "from selenium.common.exceptions import NoSuchElementException\n",
    "from selenium.common.exceptions import ElementClickInterceptedException\n",
    "from selenium.webdriver.common.by import By\n",
    "from tqdm import tqdm\n",
    "from urllib.parse import urlparse"
   ]
  },
  {
   "cell_type": "code",
   "execution_count": 22,
   "metadata": {},
   "outputs": [],
   "source": [
    "# url de partida para obtener la información de las películas\n",
    "#url = \"https://www.imdb.com/chart/top\"\n",
    "url = \"https://www.imdb.com/feature/genre\"\n",
    "\n",
    "# Se modifica el user-agent para evitar no ser bloqueados\n",
    "headers = {\n",
    "\"Accept\": \"text/html,application/xhtml+xml,application/xml;q=0.9,image/webp,\\\n",
    "*/*;q=0.8\",\n",
    "\"Accept-Encoding\": \"gzip, deflate, sdch, br\",\n",
    "\"Accept-Language\": \"en-US,en;q=0.8\",\n",
    "\"Cache-Control\": \"no-cache\",\n",
    "\"dnt\": \"1\",\n",
    "\"Pragma\": \"no-cache\",\n",
    "\"Upgrade-Insecure-Requests\": \"1\",\n",
    "\"User-Agent\": \"Mozilla/5.0 (Macintosh; Intel Mac OS X 10_15_7) AppleWebKit/537.36\\\n",
    "    (KHTML, like Gecko) Chrome/106.0.0.0 Safari/537.36\"\n",
    "}\n",
    "\n",
    "# url login\n",
    "#url_login = \"https://www.imdb.com/ap/signin?openid.pape.max_auth_age=0&openid.return_to=https%3A%2F%2Fwww.imdb.com%2Fregistration%2Fap-signin-handler%2Fimdb_us&openid.identity=http%3A%2F%2Fspecs.openid.net%2Fauth%2F2.0%2Fidentifier_select&openid.assoc_handle=imdb_us&openid.mode=checkid_setup&siteState=eyJvcGVuaWQuYXNzb2NfaGFuZGxlIjoiaW1kYl91cyIsInJlZGlyZWN0VG8iOiJodHRwczovL3d3dy5pbWRiLmNvbS9jaGFydC90b3A_cmVmXz1sb2dpbiJ9&openid.claimed_id=http%3A%2F%2Fspecs.openid.net%2Fauth%2F2.0%2Fidentifier_select&openid.ns=http%3A%2F%2Fspecs.openid.net%2Fauth%2F2.0&tag=imdbtag_reg-20\"\n",
    "url_login = \"https://www.imdb.com/ap/signin?openid.pape.max_auth_age=0&openid.return_to=https%3A%2F%2Fwww.imdb.com%2Fregistration%2Fap-signin-handler%2Fimdb_us&openid.identity=http%3A%2F%2Fspecs.openid.net%2Fauth%2F2.0%2Fidentifier_select&openid.assoc_handle=imdb_us&openid.mode=checkid_setup&siteState=eyJvcGVuaWQuYXNzb2NfaGFuZGxlIjoiaW1kYl91cyIsInJlZGlyZWN0VG8iOiJodHRwczovL3d3dy5pbWRiLmNvbS9mZWF0dXJlL2dlbnJlLz9yZWZfPWxvZ2luIn0&openid.claimed_id=http%3A%2F%2Fspecs.openid.net%2Fauth%2F2.0%2Fidentifier_select&openid.ns=http%3A%2F%2Fspecs.openid.net%2Fauth%2F2.0&tag=imdbtag_reg-20\"\n",
    "# Parámetros que son necesarios para hacer el login\n",
    "data_login =  {\n",
    "    'email':'luckigt@icloud.com',\n",
    "    'password':'Password'\n",
    "}\n",
    "# Requests y el parser del html\n",
    "response = requests.get(url,headers=headers)\n",
    "soup = BeautifulSoup(response.text,\"html.parser\")\n"
   ]
  },
  {
   "cell_type": "code",
   "execution_count": 102,
   "metadata": {},
   "outputs": [],
   "source": [
    "\n",
    "# Películas\n",
    "soup_names = soup.select('td.titleColumn a')\n",
    "\n",
    "# Sacar nombre de las películas\n",
    "movies_names = [names.get_text() for names in soup_names]\n"
   ]
  },
  {
   "cell_type": "code",
   "execution_count": 65,
   "metadata": {},
   "outputs": [],
   "source": [
    "# Año de las peliculas\n",
    "#soup_movies = soup.select('td.titleColumn span[class=secondaryInfo]')\n",
    "soup_years = soup.find_all('span', {'class' : 'secondaryInfo'})\n",
    "\n",
    "years_of_film = [years.get_text() for years in soup_years]\n",
    "\n",
    "# Eliminamos los parentesis del año del estreno de las películas\n",
    "import re\n",
    "years_of_film_clean = [re.sub(\"[()]\",\"\",years_cleaned) for years_cleaned in years_of_film]"
   ]
  },
  {
   "cell_type": "code",
   "execution_count": 68,
   "metadata": {},
   "outputs": [],
   "source": [
    "# Ratings de las peliculas\n",
    "soup_ratings = soup.find_all(\"td\",class_='imdbRating')\n",
    "\n",
    "ratings_of_film = [ratings.get_text() for ratings in soup_ratings]\n",
    "\n",
    "#Eliminamos espacios a los lados\n",
    "ratings_of_film_clean = [ratings_cleaned.strip() for ratings_cleaned in ratings_of_film]\n"
   ]
  },
  {
   "cell_type": "code",
   "execution_count": 5,
   "metadata": {},
   "outputs": [
    {
     "name": "stderr",
     "output_type": "stream",
     "text": [
      "[WDM] - Downloading: 19.0kB [00:00, 4.96MB/s]                   \n",
      "/var/folders/_h/lw6vm6js40v053j5mjqh7fcw0000gn/T/ipykernel_5706/2778879890.py:6: DeprecationWarning: executable_path has been deprecated, please pass in a Service object\n",
      "  driver = Firefox(executable_path=GeckoDriverManager().install())\n"
     ]
    }
   ],
   "source": [
    "# DRIVER CON FIREFOX\n",
    "\n",
    "# Instalas este modulo con pip install webdriver-manager\n",
    "\n",
    "# Abres el navegador Firefox\n",
    "driver = Firefox(executable_path=GeckoDriverManager().install())\n",
    "driver.get(url_login)\n",
    "\n",
    "# Rellena email, password y hace click, y nos logamos\n",
    "driver.find_element(By.ID,\"ap_email\").send_keys(data_login['email'])\n",
    "driver.find_element(By.ID,\"ap_password\").send_keys(data_login['password'])\n",
    "driver.find_element(By.ID,\"signInSubmit\").click()\n",
    "\n",
    "\n",
    "\n"
   ]
  },
  {
   "cell_type": "code",
   "execution_count": null,
   "metadata": {},
   "outputs": [],
   "source": [
    "# Creas la session con request\n",
    "#session = requests.Session()\n",
    "\n",
    "\n",
    "#login = session.post(url_login,data = data_login,headers=headers)\n",
    "\n",
    "#for i in login.history:\n",
    "#    if i.status_code == 402:\n",
    "#        print(\"Error!\")"
   ]
  },
  {
   "cell_type": "code",
   "execution_count": 21,
   "metadata": {},
   "outputs": [
    {
     "data": {
      "text/plain": [
       "['Comedy',\n",
       " 'Sci-Fi',\n",
       " 'Horror',\n",
       " 'Romance',\n",
       " 'Action',\n",
       " 'Thriller',\n",
       " 'Drama',\n",
       " 'Mystery',\n",
       " 'Crime',\n",
       " 'Animation',\n",
       " 'Adventure',\n",
       " 'Fantasy',\n",
       " 'Comedy-Romance',\n",
       " 'Action-Comedy',\n",
       " 'Superhero']"
      ]
     },
     "execution_count": 21,
     "metadata": {},
     "output_type": "execute_result"
    }
   ],
   "source": [
    "# Get the urls of the genres of the films\n",
    "genres = soup.find_all(attrs={'class': 'image'}) \n",
    "urls_genres = [x.get('href') for genre in genres  for x in genre.findChildren('a')]\n",
    "\n",
    "# Get the names of the genres of the films\n",
    "names_genres = [x.get('alt') for genre in genres  for x in genre.findChildren('img')]\n",
    "\n",
    "names_genres"
   ]
  },
  {
   "cell_type": "code",
   "execution_count": 26,
   "metadata": {},
   "outputs": [
    {
     "data": {
      "text/plain": [
       "{'Comedy': 'https://www.imdb.com/search/title?genres=comedy&explore=title_type,genres&pf_rd_m=A2FGELUUNOQJNL&pf_rd_p=3396781f-d87f-4fac-8694-c56ce6f490fe&pf_rd_r=NK3CZ9827P3B9WEDPFZN&pf_rd_s=center-1&pf_rd_t=15051&pf_rd_i=genre&ref_=ft_gnr_pr1_i_1',\n",
       " 'Sci-Fi': 'https://www.imdb.com/search/title?genres=sci-fi&explore=title_type,genres&pf_rd_m=A2FGELUUNOQJNL&pf_rd_p=3396781f-d87f-4fac-8694-c56ce6f490fe&pf_rd_r=NK3CZ9827P3B9WEDPFZN&pf_rd_s=center-1&pf_rd_t=15051&pf_rd_i=genre&ref_=ft_gnr_pr1_i_2',\n",
       " 'Horror': 'https://www.imdb.com/search/title?genres=horror&explore=title_type,genres&pf_rd_m=A2FGELUUNOQJNL&pf_rd_p=3396781f-d87f-4fac-8694-c56ce6f490fe&pf_rd_r=NK3CZ9827P3B9WEDPFZN&pf_rd_s=center-1&pf_rd_t=15051&pf_rd_i=genre&ref_=ft_gnr_pr1_i_3',\n",
       " 'Romance': 'https://www.imdb.com/search/title?genres=romance&explore=title_type,genres&pf_rd_m=A2FGELUUNOQJNL&pf_rd_p=e0da8c98-35e8-4ebd-8e86-e7d39c92730c&pf_rd_r=NK3CZ9827P3B9WEDPFZN&pf_rd_s=center-2&pf_rd_t=15051&pf_rd_i=genre&ref_=ft_gnr_pr2_i_1',\n",
       " 'Action': 'https://www.imdb.com/search/title?genres=action&explore=title_type,genres&pf_rd_m=A2FGELUUNOQJNL&pf_rd_p=e0da8c98-35e8-4ebd-8e86-e7d39c92730c&pf_rd_r=NK3CZ9827P3B9WEDPFZN&pf_rd_s=center-2&pf_rd_t=15051&pf_rd_i=genre&ref_=ft_gnr_pr2_i_2',\n",
       " 'Thriller': 'https://www.imdb.com/search/title?genres=thriller&explore=title_type,genres&pf_rd_m=A2FGELUUNOQJNL&pf_rd_p=e0da8c98-35e8-4ebd-8e86-e7d39c92730c&pf_rd_r=NK3CZ9827P3B9WEDPFZN&pf_rd_s=center-2&pf_rd_t=15051&pf_rd_i=genre&ref_=ft_gnr_pr2_i_3',\n",
       " 'Drama': 'https://www.imdb.com/search/title?genres=drama&explore=title_type,genres&pf_rd_m=A2FGELUUNOQJNL&pf_rd_p=f1cf7b98-03fb-4a83-95f3-d833fdba0471&pf_rd_r=NK3CZ9827P3B9WEDPFZN&pf_rd_s=center-3&pf_rd_t=15051&pf_rd_i=genre&ref_=ft_gnr_pr3_i_1',\n",
       " 'Mystery': 'https://www.imdb.com/search/title?genres=mystery&explore=title_type,genres&pf_rd_m=A2FGELUUNOQJNL&pf_rd_p=f1cf7b98-03fb-4a83-95f3-d833fdba0471&pf_rd_r=NK3CZ9827P3B9WEDPFZN&pf_rd_s=center-3&pf_rd_t=15051&pf_rd_i=genre&ref_=ft_gnr_pr3_i_2',\n",
       " 'Crime': 'https://www.imdb.com/search/title?genres=crime&explore=title_type,genres&pf_rd_m=A2FGELUUNOQJNL&pf_rd_p=f1cf7b98-03fb-4a83-95f3-d833fdba0471&pf_rd_r=NK3CZ9827P3B9WEDPFZN&pf_rd_s=center-3&pf_rd_t=15051&pf_rd_i=genre&ref_=ft_gnr_pr3_i_3',\n",
       " 'Animation': 'https://www.imdb.com/search/title?genres=animation&explore=title_type,genres&pf_rd_m=A2FGELUUNOQJNL&pf_rd_p=fd0c0dd4-de47-4168-baa8-239e02fd9ee7&pf_rd_r=NK3CZ9827P3B9WEDPFZN&pf_rd_s=center-4&pf_rd_t=15051&pf_rd_i=genre&ref_=ft_gnr_pr4_i_1',\n",
       " 'Adventure': 'https://www.imdb.com/search/title?genres=adventure&explore=title_type,genres&pf_rd_m=A2FGELUUNOQJNL&pf_rd_p=fd0c0dd4-de47-4168-baa8-239e02fd9ee7&pf_rd_r=NK3CZ9827P3B9WEDPFZN&pf_rd_s=center-4&pf_rd_t=15051&pf_rd_i=genre&ref_=ft_gnr_pr4_i_2',\n",
       " 'Fantasy': 'https://www.imdb.com/search/title?genres=fantasy&explore=title_type,genres&pf_rd_m=A2FGELUUNOQJNL&pf_rd_p=fd0c0dd4-de47-4168-baa8-239e02fd9ee7&pf_rd_r=NK3CZ9827P3B9WEDPFZN&pf_rd_s=center-4&pf_rd_t=15051&pf_rd_i=genre&ref_=ft_gnr_pr4_i_3',\n",
       " 'Comedy-Romance': 'https://www.imdb.com/search/title?genres=comedy,romance&explore=title_type,genres&pf_rd_m=A2FGELUUNOQJNL&pf_rd_p=a581b14c-5a82-4e29-9cf8-54f909ced9e1&pf_rd_r=NK3CZ9827P3B9WEDPFZN&pf_rd_s=center-5&pf_rd_t=15051&pf_rd_i=genre&ref_=ft_gnr_pr5_i_1',\n",
       " 'Action-Comedy': 'https://www.imdb.com/search/title?genres=action,comedy&explore=title_type,genres&pf_rd_m=A2FGELUUNOQJNL&pf_rd_p=a581b14c-5a82-4e29-9cf8-54f909ced9e1&pf_rd_r=NK3CZ9827P3B9WEDPFZN&pf_rd_s=center-5&pf_rd_t=15051&pf_rd_i=genre&ref_=ft_gnr_pr5_i_2',\n",
       " 'Superhero': 'https://www.imdb.com/search/keyword?keywords=superhero&pf_rd_m=A2FGELUUNOQJNL&pf_rd_p=a581b14c-5a82-4e29-9cf8-54f909ced9e1&pf_rd_r=NK3CZ9827P3B9WEDPFZN&pf_rd_s=center-5&pf_rd_t=15051&pf_rd_i=genre&ref_=ft_gnr_pr5_i_3'}"
      ]
     },
     "execution_count": 26,
     "metadata": {},
     "output_type": "execute_result"
    }
   ],
   "source": [
    "# Get all the text of the page identified by the input URL\n",
    "response = requests.get(url,headers=headers)\n",
    "soup = BeautifulSoup(response.text,\"html.parser\")\n",
    "\n",
    "# Get all the text of the page identified by the input URL\n",
    "genres = soup.find_all(attrs={'class': 'image'}) \n",
    "\n",
    "# Get the urls of the genres of the films\n",
    "urls_genres = [x.get('href') for genre in genres  for x in genre.findChildren('a')]\n",
    "\n",
    "# Get the names of the genres of the films\n",
    "names_genres = [x.get('alt') for genre in genres  for x in genre.findChildren('img')]\n",
    "\n",
    "# Create the dict_genres\n",
    "dict_genres = {names_genres[i]: urls_genres[i] for i in range(len(names_genres))}\n",
    "dict_genres"
   ]
  },
  {
   "cell_type": "code",
   "execution_count": null,
   "metadata": {},
   "outputs": [],
   "source": []
  }
 ],
 "metadata": {
  "kernelspec": {
   "display_name": "Python 3.9.7 ('uoc20212pec4')",
   "language": "python",
   "name": "python3"
  },
  "language_info": {
   "codemirror_mode": {
    "name": "ipython",
    "version": 3
   },
   "file_extension": ".py",
   "mimetype": "text/x-python",
   "name": "python",
   "nbconvert_exporter": "python",
   "pygments_lexer": "ipython3",
   "version": "3.9.7"
  },
  "orig_nbformat": 4,
  "vscode": {
   "interpreter": {
    "hash": "b4d95563b6a2f1465f7b611108e4478c3dbbcb1481cd44681845be454129dad8"
   }
  }
 },
 "nbformat": 4,
 "nbformat_minor": 2
}
