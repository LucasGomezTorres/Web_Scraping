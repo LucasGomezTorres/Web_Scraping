{
 "cells": [
  {
   "cell_type": "markdown",
   "metadata": {},
   "source": [
    "Se añade la carpeta correctamente source.\n"
   ]
  },
  {
   "cell_type": "code",
   "execution_count": 2,
   "metadata": {},
   "outputs": [],
   "source": [
    "# Se importan las librerías que se van a usar\n",
    "import requests\n",
    "import time\n",
    "import re\n",
    "import pandas as pd\n",
    "import os\n",
    "import urllib.parse\n",
    "#!pip install webdriver-manager\n",
    "import chromedriver_binary \n",
    "from bs4 import BeautifulSoup\n",
    "from selenium.webdriver import Firefox\n",
    "from webdriver_manager.firefox import GeckoDriverManager\n",
    "from selenium.common.exceptions import NoSuchElementException\n",
    "from selenium.common.exceptions import ElementClickInterceptedException\n",
    "from selenium.webdriver.common.by import By\n",
    "from tqdm import tqdm\n",
    "from urllib.parse import urlparse"
   ]
  },
  {
   "cell_type": "code",
   "execution_count": 2,
   "metadata": {},
   "outputs": [],
   "source": [
    "# url de partida para obtener la información de las películas\n",
    "#url = \"https://www.imdb.com/chart/top\"\n",
    "url = \"https://www.imdb.com/feature/genre\"\n",
    "\n",
    "# Se modifica el user-agent para evitar no ser bloqueados\n",
    "headers = {\n",
    "\"Accept\": \"text/html,application/xhtml+xml,application/xml;q=0.9,image/webp,\\\n",
    "*/*;q=0.8\",\n",
    "\"Accept-Encoding\": \"gzip, deflate, sdch, br\",\n",
    "\"Accept-Language\": \"en-US,en;q=0.8\",\n",
    "\"Cache-Control\": \"no-cache\",\n",
    "\"dnt\": \"1\",\n",
    "\"Pragma\": \"no-cache\",\n",
    "\"Upgrade-Insecure-Requests\": \"1\",\n",
    "\"User-Agent\": \"Mozilla/5.0 (Macintosh; Intel Mac OS X 10_15_7) AppleWebKit/537.36\\\n",
    "    (KHTML, like Gecko) Chrome/106.0.0.0 Safari/537.36\"\n",
    "}\n",
    "\n",
    "# url login\n",
    "#url_login = \"https://www.imdb.com/ap/signin?openid.pape.max_auth_age=0&openid.return_to=https%3A%2F%2Fwww.imdb.com%2Fregistration%2Fap-signin-handler%2Fimdb_us&openid.identity=http%3A%2F%2Fspecs.openid.net%2Fauth%2F2.0%2Fidentifier_select&openid.assoc_handle=imdb_us&openid.mode=checkid_setup&siteState=eyJvcGVuaWQuYXNzb2NfaGFuZGxlIjoiaW1kYl91cyIsInJlZGlyZWN0VG8iOiJodHRwczovL3d3dy5pbWRiLmNvbS9jaGFydC90b3A_cmVmXz1sb2dpbiJ9&openid.claimed_id=http%3A%2F%2Fspecs.openid.net%2Fauth%2F2.0%2Fidentifier_select&openid.ns=http%3A%2F%2Fspecs.openid.net%2Fauth%2F2.0&tag=imdbtag_reg-20\"\n",
    "url_login = \"https://www.imdb.com/ap/signin?openid.pape.max_auth_age=0&openid.return_to=https%3A%2F%2Fwww.imdb.com%2Fregistration%2Fap-signin-handler%2Fimdb_us&openid.identity=http%3A%2F%2Fspecs.openid.net%2Fauth%2F2.0%2Fidentifier_select&openid.assoc_handle=imdb_us&openid.mode=checkid_setup&siteState=eyJvcGVuaWQuYXNzb2NfaGFuZGxlIjoiaW1kYl91cyIsInJlZGlyZWN0VG8iOiJodHRwczovL3d3dy5pbWRiLmNvbS9mZWF0dXJlL2dlbnJlLz9yZWZfPWxvZ2luIn0&openid.claimed_id=http%3A%2F%2Fspecs.openid.net%2Fauth%2F2.0%2Fidentifier_select&openid.ns=http%3A%2F%2Fspecs.openid.net%2Fauth%2F2.0&tag=imdbtag_reg-20\"\n",
    "# Parámetros que son necesarios para hacer el login\n",
    "data_login =  {\n",
    "    'email':'luckigt@icloud.com',\n",
    "    'password':'Password'\n",
    "}\n",
    "# Requests y el parser del html\n",
    "response = requests.get(url,headers=headers)\n",
    "soup = BeautifulSoup(response.text,\"html.parser\")\n"
   ]
  },
  {
   "cell_type": "code",
   "execution_count": 102,
   "metadata": {},
   "outputs": [],
   "source": [
    "\n",
    "# Películas\n",
    "soup_names = soup.select('td.titleColumn a')\n",
    "\n",
    "# Sacar nombre de las películas\n",
    "movies_names = [names.get_text() for names in soup_names]\n"
   ]
  },
  {
   "cell_type": "code",
   "execution_count": 65,
   "metadata": {},
   "outputs": [],
   "source": [
    "# Año de las peliculas\n",
    "#soup_movies = soup.select('td.titleColumn span[class=secondaryInfo]')\n",
    "soup_years = soup.find_all('span', {'class' : 'secondaryInfo'})\n",
    "\n",
    "years_of_film = [years.get_text() for years in soup_years]\n",
    "\n",
    "# Eliminamos los parentesis del año del estreno de las películas\n",
    "import re\n",
    "years_of_film_clean = [re.sub(\"[()]\",\"\",years_cleaned) for years_cleaned in years_of_film]"
   ]
  },
  {
   "cell_type": "code",
   "execution_count": 68,
   "metadata": {},
   "outputs": [],
   "source": [
    "# Ratings de las peliculas\n",
    "soup_ratings = soup.find_all(\"td\",class_='imdbRating')\n",
    "\n",
    "ratings_of_film = [ratings.get_text() for ratings in soup_ratings]\n",
    "\n",
    "#Eliminamos espacios a los lados\n",
    "ratings_of_film_clean = [ratings_cleaned.strip() for ratings_cleaned in ratings_of_film]\n"
   ]
  },
  {
   "cell_type": "code",
   "execution_count": 5,
   "metadata": {},
   "outputs": [
    {
     "name": "stderr",
     "output_type": "stream",
     "text": [
      "[WDM] - Downloading: 19.0kB [00:00, 4.96MB/s]                   \n",
      "/var/folders/_h/lw6vm6js40v053j5mjqh7fcw0000gn/T/ipykernel_5706/2778879890.py:6: DeprecationWarning: executable_path has been deprecated, please pass in a Service object\n",
      "  driver = Firefox(executable_path=GeckoDriverManager().install())\n"
     ]
    }
   ],
   "source": [
    "# DRIVER CON FIREFOX\n",
    "\n",
    "# Instalas este modulo con pip install webdriver-manager\n",
    "\n",
    "# Abres el navegador Firefox\n",
    "driver = Firefox(executable_path=GeckoDriverManager().install())\n",
    "driver.get(url_login)\n",
    "\n",
    "# Rellena email, password y hace click, y nos logamos\n",
    "driver.find_element(By.ID,\"ap_email\").send_keys(data_login['email'])\n",
    "driver.find_element(By.ID,\"ap_password\").send_keys(data_login['password'])\n",
    "driver.find_element(By.ID,\"signInSubmit\").click()\n",
    "\n",
    "\n",
    "\n"
   ]
  },
  {
   "cell_type": "code",
   "execution_count": null,
   "metadata": {},
   "outputs": [],
   "source": [
    "# Creas la session con request\n",
    "#session = requests.Session()\n",
    "\n",
    "\n",
    "#login = session.post(url_login,data = data_login,headers=headers)\n",
    "\n",
    "#for i in login.history:\n",
    "#    if i.status_code == 402:\n",
    "#        print(\"Error!\")"
   ]
  },
  {
   "cell_type": "code",
   "execution_count": 21,
   "metadata": {},
   "outputs": [
    {
     "data": {
      "text/plain": [
       "['Comedy',\n",
       " 'Sci-Fi',\n",
       " 'Horror',\n",
       " 'Romance',\n",
       " 'Action',\n",
       " 'Thriller',\n",
       " 'Drama',\n",
       " 'Mystery',\n",
       " 'Crime',\n",
       " 'Animation',\n",
       " 'Adventure',\n",
       " 'Fantasy',\n",
       " 'Comedy-Romance',\n",
       " 'Action-Comedy',\n",
       " 'Superhero']"
      ]
     },
     "execution_count": 21,
     "metadata": {},
     "output_type": "execute_result"
    }
   ],
   "source": [
    "# Get the urls of the genres of the films\n",
    "genres = soup.find_all(attrs={'class': 'image'}) \n",
    "urls_genres = [x.get('href') for genre in genres  for x in genre.findChildren('a')]\n",
    "\n",
    "# Get the names of the genres of the films\n",
    "names_genres = [x.get('alt') for genre in genres  for x in genre.findChildren('img')]\n",
    "\n",
    "names_genres"
   ]
  },
  {
   "cell_type": "code",
   "execution_count": 26,
   "metadata": {},
   "outputs": [
    {
     "data": {
      "text/plain": [
       "{'Comedy': 'https://www.imdb.com/search/title?genres=comedy&explore=title_type,genres&pf_rd_m=A2FGELUUNOQJNL&pf_rd_p=3396781f-d87f-4fac-8694-c56ce6f490fe&pf_rd_r=NK3CZ9827P3B9WEDPFZN&pf_rd_s=center-1&pf_rd_t=15051&pf_rd_i=genre&ref_=ft_gnr_pr1_i_1',\n",
       " 'Sci-Fi': 'https://www.imdb.com/search/title?genres=sci-fi&explore=title_type,genres&pf_rd_m=A2FGELUUNOQJNL&pf_rd_p=3396781f-d87f-4fac-8694-c56ce6f490fe&pf_rd_r=NK3CZ9827P3B9WEDPFZN&pf_rd_s=center-1&pf_rd_t=15051&pf_rd_i=genre&ref_=ft_gnr_pr1_i_2',\n",
       " 'Horror': 'https://www.imdb.com/search/title?genres=horror&explore=title_type,genres&pf_rd_m=A2FGELUUNOQJNL&pf_rd_p=3396781f-d87f-4fac-8694-c56ce6f490fe&pf_rd_r=NK3CZ9827P3B9WEDPFZN&pf_rd_s=center-1&pf_rd_t=15051&pf_rd_i=genre&ref_=ft_gnr_pr1_i_3',\n",
       " 'Romance': 'https://www.imdb.com/search/title?genres=romance&explore=title_type,genres&pf_rd_m=A2FGELUUNOQJNL&pf_rd_p=e0da8c98-35e8-4ebd-8e86-e7d39c92730c&pf_rd_r=NK3CZ9827P3B9WEDPFZN&pf_rd_s=center-2&pf_rd_t=15051&pf_rd_i=genre&ref_=ft_gnr_pr2_i_1',\n",
       " 'Action': 'https://www.imdb.com/search/title?genres=action&explore=title_type,genres&pf_rd_m=A2FGELUUNOQJNL&pf_rd_p=e0da8c98-35e8-4ebd-8e86-e7d39c92730c&pf_rd_r=NK3CZ9827P3B9WEDPFZN&pf_rd_s=center-2&pf_rd_t=15051&pf_rd_i=genre&ref_=ft_gnr_pr2_i_2',\n",
       " 'Thriller': 'https://www.imdb.com/search/title?genres=thriller&explore=title_type,genres&pf_rd_m=A2FGELUUNOQJNL&pf_rd_p=e0da8c98-35e8-4ebd-8e86-e7d39c92730c&pf_rd_r=NK3CZ9827P3B9WEDPFZN&pf_rd_s=center-2&pf_rd_t=15051&pf_rd_i=genre&ref_=ft_gnr_pr2_i_3',\n",
       " 'Drama': 'https://www.imdb.com/search/title?genres=drama&explore=title_type,genres&pf_rd_m=A2FGELUUNOQJNL&pf_rd_p=f1cf7b98-03fb-4a83-95f3-d833fdba0471&pf_rd_r=NK3CZ9827P3B9WEDPFZN&pf_rd_s=center-3&pf_rd_t=15051&pf_rd_i=genre&ref_=ft_gnr_pr3_i_1',\n",
       " 'Mystery': 'https://www.imdb.com/search/title?genres=mystery&explore=title_type,genres&pf_rd_m=A2FGELUUNOQJNL&pf_rd_p=f1cf7b98-03fb-4a83-95f3-d833fdba0471&pf_rd_r=NK3CZ9827P3B9WEDPFZN&pf_rd_s=center-3&pf_rd_t=15051&pf_rd_i=genre&ref_=ft_gnr_pr3_i_2',\n",
       " 'Crime': 'https://www.imdb.com/search/title?genres=crime&explore=title_type,genres&pf_rd_m=A2FGELUUNOQJNL&pf_rd_p=f1cf7b98-03fb-4a83-95f3-d833fdba0471&pf_rd_r=NK3CZ9827P3B9WEDPFZN&pf_rd_s=center-3&pf_rd_t=15051&pf_rd_i=genre&ref_=ft_gnr_pr3_i_3',\n",
       " 'Animation': 'https://www.imdb.com/search/title?genres=animation&explore=title_type,genres&pf_rd_m=A2FGELUUNOQJNL&pf_rd_p=fd0c0dd4-de47-4168-baa8-239e02fd9ee7&pf_rd_r=NK3CZ9827P3B9WEDPFZN&pf_rd_s=center-4&pf_rd_t=15051&pf_rd_i=genre&ref_=ft_gnr_pr4_i_1',\n",
       " 'Adventure': 'https://www.imdb.com/search/title?genres=adventure&explore=title_type,genres&pf_rd_m=A2FGELUUNOQJNL&pf_rd_p=fd0c0dd4-de47-4168-baa8-239e02fd9ee7&pf_rd_r=NK3CZ9827P3B9WEDPFZN&pf_rd_s=center-4&pf_rd_t=15051&pf_rd_i=genre&ref_=ft_gnr_pr4_i_2',\n",
       " 'Fantasy': 'https://www.imdb.com/search/title?genres=fantasy&explore=title_type,genres&pf_rd_m=A2FGELUUNOQJNL&pf_rd_p=fd0c0dd4-de47-4168-baa8-239e02fd9ee7&pf_rd_r=NK3CZ9827P3B9WEDPFZN&pf_rd_s=center-4&pf_rd_t=15051&pf_rd_i=genre&ref_=ft_gnr_pr4_i_3',\n",
       " 'Comedy-Romance': 'https://www.imdb.com/search/title?genres=comedy,romance&explore=title_type,genres&pf_rd_m=A2FGELUUNOQJNL&pf_rd_p=a581b14c-5a82-4e29-9cf8-54f909ced9e1&pf_rd_r=NK3CZ9827P3B9WEDPFZN&pf_rd_s=center-5&pf_rd_t=15051&pf_rd_i=genre&ref_=ft_gnr_pr5_i_1',\n",
       " 'Action-Comedy': 'https://www.imdb.com/search/title?genres=action,comedy&explore=title_type,genres&pf_rd_m=A2FGELUUNOQJNL&pf_rd_p=a581b14c-5a82-4e29-9cf8-54f909ced9e1&pf_rd_r=NK3CZ9827P3B9WEDPFZN&pf_rd_s=center-5&pf_rd_t=15051&pf_rd_i=genre&ref_=ft_gnr_pr5_i_2',\n",
       " 'Superhero': 'https://www.imdb.com/search/keyword?keywords=superhero&pf_rd_m=A2FGELUUNOQJNL&pf_rd_p=a581b14c-5a82-4e29-9cf8-54f909ced9e1&pf_rd_r=NK3CZ9827P3B9WEDPFZN&pf_rd_s=center-5&pf_rd_t=15051&pf_rd_i=genre&ref_=ft_gnr_pr5_i_3'}"
      ]
     },
     "execution_count": 26,
     "metadata": {},
     "output_type": "execute_result"
    }
   ],
   "source": [
    "# Get all the text of the page identified by the input URL\n",
    "response = requests.get(url,headers=headers)\n",
    "soup = BeautifulSoup(response.text,\"html.parser\")\n",
    "\n",
    "# Get all the text of the page identified by the input URL\n",
    "genres = soup.find_all(attrs={'class': 'image'}) \n",
    "\n",
    "# Get the urls of the genres of the films\n",
    "urls_genres = [x.get('href') for genre in genres  for x in genre.findChildren('a')]\n",
    "\n",
    "# Get the names of the genres of the films\n",
    "names_genres = [x.get('alt') for genre in genres  for x in genre.findChildren('img')]\n",
    "\n",
    "# Create the dict_genres\n",
    "dict_genres = {names_genres[i]: urls_genres[i] for i in range(len(names_genres))}\n",
    "dict_genres"
   ]
  },
  {
   "cell_type": "code",
   "execution_count": 8,
   "metadata": {},
   "outputs": [
    {
     "name": "stdout",
     "output_type": "stream",
     "text": [
      "['https://www.imdb.com/title/tt2935622/?ref_=adv_li_tt', 'https://www.imdb.com/title/tt10954600/?ref_=adv_li_tt', 'https://www.imdb.com/title/tt14109724/?ref_=adv_li_tt', 'https://www.imdb.com/title/tt12593682/?ref_=adv_li_tt', 'https://www.imdb.com/title/tt11813216/?ref_=adv_li_tt', 'https://www.imdb.com/title/tt13406094/?ref_=adv_li_tt', 'https://www.imdb.com/title/tt0107120/?ref_=adv_li_tt', 'https://www.imdb.com/title/tt11909878/?ref_=adv_li_tt', 'https://www.imdb.com/title/tt13616990/?ref_=adv_li_tt', 'https://www.imdb.com/title/tt10857160/?ref_=adv_li_tt', 'https://www.imdb.com/title/tt7322224/?ref_=adv_li_tt', 'https://www.imdb.com/title/tt1190634/?ref_=adv_li_tt', 'https://www.imdb.com/title/tt14452776/?ref_=adv_li_tt', 'https://www.imdb.com/title/tt17047510/?ref_=adv_li_tt', 'https://www.imdb.com/title/tt2861424/?ref_=adv_li_tt', 'https://www.imdb.com/title/tt10304142/?ref_=adv_li_tt', 'https://www.imdb.com/title/tt0386676/?ref_=adv_li_tt', 'https://www.imdb.com/title/tt6710474/?ref_=adv_li_tt', 'https://www.imdb.com/title/tt0108778/?ref_=adv_li_tt', 'https://www.imdb.com/title/tt15469618/?ref_=adv_li_tt', 'https://www.imdb.com/title/tt15334032/?ref_=adv_li_tt', 'https://www.imdb.com/title/tt15180134/?ref_=adv_li_tt', 'https://www.imdb.com/title/tt15289240/?ref_=adv_li_tt', 'https://www.imdb.com/title/tt10648342/?ref_=adv_li_tt', 'https://www.imdb.com/title/tt10986410/?ref_=adv_li_tt', 'https://www.imdb.com/title/tt7120662/?ref_=adv_li_tt', 'https://www.imdb.com/title/tt0094721/?ref_=adv_li_tt', 'https://www.imdb.com/title/tt9731598/?ref_=adv_li_tt', 'https://www.imdb.com/title/tt6226232/?ref_=adv_li_tt', 'https://www.imdb.com/title/tt9764362/?ref_=adv_li_tt', 'https://www.imdb.com/title/tt0898266/?ref_=adv_li_tt', 'https://www.imdb.com/title/tt7221388/?ref_=adv_li_tt', 'https://www.imdb.com/title/tt1442437/?ref_=adv_li_tt', 'https://www.imdb.com/title/tt0096697/?ref_=adv_li_tt', 'https://www.imdb.com/title/tt7405458/?ref_=adv_li_tt', 'https://www.imdb.com/title/tt0182576/?ref_=adv_li_tt', 'https://www.imdb.com/title/tt0472954/?ref_=adv_li_tt', 'https://www.imdb.com/title/tt11379026/?ref_=adv_li_tt', 'https://www.imdb.com/title/tt0238784/?ref_=adv_li_tt', 'https://www.imdb.com/title/tt1632701/?ref_=adv_li_tt', 'https://www.imdb.com/title/tt1586680/?ref_=adv_li_tt', 'https://www.imdb.com/title/tt0460627/?ref_=adv_li_tt', 'https://www.imdb.com/title/tt11564570/?ref_=adv_li_tt', 'https://www.imdb.com/title/tt4288182/?ref_=adv_li_tt', 'https://www.imdb.com/title/tt17220704/?ref_=adv_li_tt', 'https://www.imdb.com/title/tt14668630/?ref_=adv_li_tt', 'https://www.imdb.com/title/tt10234362/?ref_=adv_li_tt', 'https://www.imdb.com/title/tt1777606/?ref_=adv_li_tt', 'https://www.imdb.com/title/tt0098904/?ref_=adv_li_tt', 'https://www.imdb.com/title/tt8110652/?ref_=adv_li_tt']\n"
     ]
    }
   ],
   "source": [
    "url_comedia = 'https://www.imdb.com/search/title?genres=comedy&explore=title_type,genres&pf_rd_m=A2FGELUUNOQJNL&pf_rd_p=3396781f-d87f-4fac-8694-c56ce6f490fe&pf_rd_r=NK3CZ9827P3B9WEDPFZN&pf_rd_s=center-1&pf_rd_t=15051&pf_rd_i=genre&ref_=ft_gnr_pr1_i_1'\n",
    "   \n",
    "# Get all the text of the page identified by the input URL\n",
    "response = requests.get(url_comedia, headers=headers)\n",
    "soup = BeautifulSoup(response.text, features=\"html.parser\")\n",
    "\n",
    "# URL imdb\n",
    "imdb_url = 'https://www.imdb.com'\n",
    "\n",
    "# Get all urls movies for image and video\n",
    "all_movies = soup.find_all(\"div\", {\"class\": \"lister-item-content\"})\n",
    "\n",
    "# Get the urls of the photos and videos of the films\n",
    "urls_photos_videos = [movie_info.find('a').get(\"href\") for movie_info in all_movies]\n",
    "\n",
    "# Get the abs urls\n",
    "abs_urls_photos_videos = [urllib.parse.urljoin(imdb_url,url) for url in urls_photos_videos]\n"
   ]
  },
  {
   "cell_type": "code",
   "execution_count": null,
   "metadata": {},
   "outputs": [],
   "source": []
  },
  {
   "cell_type": "code",
   "execution_count": 56,
   "metadata": {},
   "outputs": [],
   "source": [
    "abs_url_prueba = abs_urls_photos_videos[40]\n",
    "\n",
    "# Get all the text of the page identified by the input URL\n",
    "response = requests.get(abs_url_prueba, headers=headers)\n",
    "soup = BeautifulSoup(response.text, features=\"html.parser\")\n",
    "\n",
    "# Get all urls movies for image and video\n",
    "photo_img = soup.find(\"div\", {\"class\": \"ipc-media ipc-media--poster-27x40 ipc-image-media-ratio--poster-27x40 ipc-media--baseAlt ipc-media--poster-l ipc-poster__poster-image ipc-media__img\"})\n",
    "for i in photo_img:\n",
    "    foto = i.get(\"srcset\").split(',')[0]\n",
    "\n",
    "\n",
    "\n",
    "import requests\n",
    "\n",
    "img_data = requests.get(foto).content\n",
    "with open('./images_films/comedia_34.jpg', 'wb') as handler:\n",
    "    handler.write(img_data)\n",
    "\n",
    "#rel_url = []\n",
    "#for i in photo_img:\n",
    "    #rel_url.append(urlparse(i.get(\"src\")).path)\n",
    "#rel_url[0]"
   ]
  },
  {
   "cell_type": "code",
   "execution_count": 38,
   "metadata": {},
   "outputs": [
    {
     "data": {
      "text/plain": [
       "'pepe'"
      ]
     },
     "execution_count": 38,
     "metadata": {},
     "output_type": "execute_result"
    }
   ],
   "source": [
    "string = \"pepe, dfsfdsfds\"\n",
    "string.split(',')[0]\n",
    "\n",
    "https://m.media-amazon.com/images/M/MV5BMjY4ZTRhN2EtYTY2MS00ZGQyLWE4NGQtM2NlYzAzNjE0ODk1XkEyXkFqcGdeQXVyMTU2Mjg2NjE2._V1_QL75_UX190_CR0"
   ]
  },
  {
   "cell_type": "code",
   "execution_count": 67,
   "metadata": {},
   "outputs": [
    {
     "name": "stdout",
     "output_type": "stream",
     "text": [
      "./images_films/images/M/MV5BMjU4MTkxNzktNzUyYy00NDM2LWE5NGQtNjJlN2Q0N2MxZDAxXkEyXkFqcGdeQXVyMTkxNjUyNQ@@._V1_QL75_UX190_CR0,0,190,281_.jpg\n"
     ]
    },
    {
     "ename": "FileNotFoundError",
     "evalue": "[Errno 2] No such file or directory: './images_films/images/M/MV5BMjU4MTkxNzktNzUyYy00NDM2LWE5NGQtNjJlN2Q0N2MxZDAxXkEyXkFqcGdeQXVyMTkxNjUyNQ@@._V1_QL75_UX190_CR0,0,190,281_.jpg'",
     "output_type": "error",
     "traceback": [
      "\u001b[0;31m---------------------------------------------------------------------------\u001b[0m",
      "\u001b[0;31mFileNotFoundError\u001b[0m                         Traceback (most recent call last)",
      "\u001b[1;32m/Users/lucasgomeztorres/Universidad/Máster_Ciencia_Datos/Tipologia_Ciclo_Vida_Datos/Prácticas/Practica_1/Web_Scraping/src/webScraping.ipynb Celda 14\u001b[0m in \u001b[0;36m<cell line: 9>\u001b[0;34m()\u001b[0m\n\u001b[1;32m     <a href='vscode-notebook-cell:/Users/lucasgomeztorres/Universidad/M%C3%A1ster_Ciencia_Datos/Tipologia_Ciclo_Vida_Datos/Pr%C3%A1cticas/Practica_1/Web_Scraping/src/webScraping.ipynb#X16sZmlsZQ%3D%3D?line=9'>10</a>\u001b[0m ruta \u001b[39m=\u001b[39m poster_path \u001b[39m+\u001b[39m rel_url[\u001b[39m0\u001b[39m]\n\u001b[1;32m     <a href='vscode-notebook-cell:/Users/lucasgomeztorres/Universidad/M%C3%A1ster_Ciencia_Datos/Tipologia_Ciclo_Vida_Datos/Pr%C3%A1cticas/Practica_1/Web_Scraping/src/webScraping.ipynb#X16sZmlsZQ%3D%3D?line=10'>11</a>\u001b[0m \u001b[39mprint\u001b[39m(ruta)\n\u001b[0;32m---> <a href='vscode-notebook-cell:/Users/lucasgomeztorres/Universidad/M%C3%A1ster_Ciencia_Datos/Tipologia_Ciclo_Vida_Datos/Pr%C3%A1cticas/Practica_1/Web_Scraping/src/webScraping.ipynb#X16sZmlsZQ%3D%3D?line=11'>12</a>\u001b[0m output \u001b[39m=\u001b[39m \u001b[39mopen\u001b[39;49m(ruta, \u001b[39m\"\u001b[39;49m\u001b[39mwb\u001b[39;49m\u001b[39m\"\u001b[39;49m)\n\u001b[1;32m     <a href='vscode-notebook-cell:/Users/lucasgomeztorres/Universidad/M%C3%A1ster_Ciencia_Datos/Tipologia_Ciclo_Vida_Datos/Pr%C3%A1cticas/Practica_1/Web_Scraping/src/webScraping.ipynb#X16sZmlsZQ%3D%3D?line=12'>13</a>\u001b[0m \u001b[39mfor\u001b[39;00m chunk \u001b[39min\u001b[39;00m r:\n\u001b[1;32m     <a href='vscode-notebook-cell:/Users/lucasgomeztorres/Universidad/M%C3%A1ster_Ciencia_Datos/Tipologia_Ciclo_Vida_Datos/Pr%C3%A1cticas/Practica_1/Web_Scraping/src/webScraping.ipynb#X16sZmlsZQ%3D%3D?line=13'>14</a>\u001b[0m     output\u001b[39m.\u001b[39mwrite(chunk)\n",
      "\u001b[0;31mFileNotFoundError\u001b[0m: [Errno 2] No such file or directory: './images_films/images/M/MV5BMjU4MTkxNzktNzUyYy00NDM2LWE5NGQtNjJlN2Q0N2MxZDAxXkEyXkFqcGdeQXVyMTkxNjUyNQ@@._V1_QL75_UX190_CR0,0,190,281_.jpg'"
     ]
    }
   ],
   "source": [
    "# Se crea la sesión para requests\n",
    "session = requests.Session()\n",
    "\n",
    "abs_url_prueba = abs_urls_photos_videos[0]\n",
    "r = session.get(abs_url_prueba, headers=headers, stream=True)\n",
    "t0 = time.time()\n",
    "delay = time.time() - t0\n",
    "os.makedirs(poster_path, exist_ok=True)\n",
    "if r.status_code == 200:\n",
    "    ruta = poster_path + rel_url[0]\n",
    "    print(ruta)\n",
    "    output = open(ruta, \"wb\")\n",
    "    for chunk in r:\n",
    "        output.write(chunk)\n",
    "    output.close()\n",
    "time.sleep(10*delay)"
   ]
  },
  {
   "cell_type": "code",
   "execution_count": 57,
   "metadata": {},
   "outputs": [],
   "source": [
    "168\n",
    "\n",
    "\n",
    "import requests\n",
    "\n",
    "img_data = requests.get(foto).content\n",
    "with open('./images_films/image_name.jpg', 'wb') as handler:\n",
    "    handler.write(img_data)"
   ]
  },
  {
   "cell_type": "code",
   "execution_count": 4,
   "metadata": {},
   "outputs": [
    {
     "name": "stdout",
     "output_type": "stream",
     "text": [
      "/Users/lucasgomeztorres/Universidad/Máster_Ciencia_Datos/Tipologia_Ciclo_Vida_Datos/Prácticas/Practica_1/Web_Scraping/src\n"
     ]
    }
   ],
   "source": [
    "import requests\n",
    "from bs4 import BeautifulSoup\n",
    "from urllib.parse import urlparse\n",
    "\n",
    "url_comedia = 'https://www.imdb.com/search/title/?genres=sci-fi&explore=title_type,genres&pf_rd_m=A2FGELUUNOQJNL&pf_rd_p=3396781f-d87f-4fac-8694-c56ce6f490fe&pf_rd_r=AVEKH7KH94NBE2558HTW&pf_rd_s=center-1&pf_rd_t=15051&pf_rd_i=genre&ref_=ft_gnr_pr1_i_2'\n",
    "   \n",
    "headers = {\n",
    "        \"Accept\": \"text/html,application/xhtml+xml,application/xml;q=0.9,image/webp,\\\n",
    "        */*;q=0.8\",\n",
    "        \"Accept-Encoding\": \"gzip, deflate, sdch, br\",\n",
    "        \"Accept-Language\": \"en-US,en;q=0.8\",\n",
    "        \"Cache-Control\": \"no-cache\",\n",
    "        \"dnt\": \"1\",\n",
    "        \"Pragma\": \"no-cache\",\n",
    "        \"Upgrade-Insecure-Requests\": \"1\",\n",
    "        \"User-Agent\": \"Mozilla/5.0 (Macintosh; Intel Mac OS X 10_15_7) AppleWebKit/537.36\\\n",
    "            (KHTML, like Gecko) Chrome/106.0.0.0 Safari/537.36\"\n",
    "}\n",
    "\n",
    "# Get all the text of the page identified by the input URL\n",
    "response = requests.get(url_comedia, headers=headers)\n",
    "soup = BeautifulSoup(response.text, features=\"html.parser\")\n",
    "\n",
    "# URL imdb\n",
    "imdb_url = 'https://www.imdb.com'\n",
    "\n",
    "# Get all urls movies for image and video\n",
    "all_movies = soup.find_all(\"div\", {\"class\": \"lister-item-content\"})\n",
    "\n",
    "# Get the urls of the photos and videos of the films\n",
    "urls_photos_videos = [movie_info.find('a').get(\"href\") for movie_info in all_movies]\n",
    "\n",
    "# Get the abs urls\n",
    "abs_urls_photos_videos = [urllib.parse.urljoin(imdb_url,url) for url in urls_photos_videos]\n",
    "\n",
    "abs_url_prueba = abs_urls_photos_videos[0]\n",
    "\n",
    "# Get all the text of the page identified by the input URL\n",
    "response = requests.get(abs_url_prueba, headers=headers)\n",
    "soup = BeautifulSoup(response.text, features=\"html.parser\")\n",
    "\n",
    "# Get all urls movies for image and video\n",
    "photo_img = soup.find(\"div\", {\"class\": \"ipc-media ipc-media--poster-27x40 ipc-image-media-ratio--poster-27x40 ipc-media--baseAlt ipc-media--poster-l ipc-poster__poster-image ipc-media__img\"})\n",
    "for i in photo_img:\n",
    "    foto = i.get(\"srcset\").split(',')[0]\n",
    "\n",
    "img_data = requests.get(foto).content\n",
    "with open('images_films/action.jpg', 'wb') as handler:\n",
    "    handler.write(img_data)\n",
    "print(os.getcwd())"
   ]
  },
  {
   "cell_type": "code",
   "execution_count": null,
   "metadata": {},
   "outputs": [],
   "source": [
    "def get_images_films(soup,all_movies,genre_name,headers):\n",
    "\n",
    "    # URL imdb to get the absolute path of the images\n",
    "    imdb_url = 'https://www.imdb.com'\n",
    "\n",
    "    # Get the relative paths of the photos and videos of the films\n",
    "    urls_photos_videos = [movie_info.find('a').get(\"href\") for movie_info in all_movies]\n",
    "\n",
    "    # Get the absolutes paths of the photos and videos of the films\n",
    "    abs_urls_photos_videos = [urllib.parse.urljoin(imdb_url,url) for url in urls_photos_videos]\n",
    "\n",
    "    movie_id_image = 1\n",
    "    for url in abs_urls_photos_videos:\n",
    "\n",
    "        # Get all the text of the page identified by the input URL\n",
    "        response = requests.get(url, headers=headers)\n",
    "        soup = BeautifulSoup(response.text, features=\"html.parser\")\n",
    "\n",
    "        # Get url movie for download the image \n",
    "        image_poster = soup.find(\"div\", {\"class\": \"ipc-media ipc-media--poster-27x40 ipc-image-media-ratio--poster-27x40 ipc-media--baseAlt ipc-media--poster-l ipc-poster__poster-image ipc-media__img\"})\n",
    "        for image_poster_content in image_poster:\n",
    "            url_image = image_poster_content.get(\"srcset\").split(',')[0]\n",
    "\n",
    "        # Get the image of film and save to images_film folder \n",
    "        image_data = requests.get(url_image).content\n",
    "        with open('src/images_films/'+genre_name+'_'+str(movie_id_image)+'.jpg', 'wb') as handler:\n",
    "            handler.write(image_data)\n",
    "            print(\"download image\"+str(movie_id_image))\n",
    "            movie_id_image +=1"
   ]
  }
 ],
 "metadata": {
  "kernelspec": {
   "display_name": "Python 3.9.7 ('uoc20212pec4')",
   "language": "python",
   "name": "python3"
  },
  "language_info": {
   "codemirror_mode": {
    "name": "ipython",
    "version": 3
   },
   "file_extension": ".py",
   "mimetype": "text/x-python",
   "name": "python",
   "nbconvert_exporter": "python",
   "pygments_lexer": "ipython3",
   "version": "3.9.7"
  },
  "orig_nbformat": 4,
  "vscode": {
   "interpreter": {
    "hash": "b4d95563b6a2f1465f7b611108e4478c3dbbcb1481cd44681845be454129dad8"
   }
  }
 },
 "nbformat": 4,
 "nbformat_minor": 2
}
